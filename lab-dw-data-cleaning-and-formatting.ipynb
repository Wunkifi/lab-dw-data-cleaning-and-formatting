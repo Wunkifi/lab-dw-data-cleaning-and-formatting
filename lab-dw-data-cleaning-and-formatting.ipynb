{
  "cells": [
    {
      "cell_type": "markdown",
      "id": "25d7736c-ba17-4aff-b6bb-66eba20fbf4e",
      "metadata": {
        "id": "25d7736c-ba17-4aff-b6bb-66eba20fbf4e"
      },
      "source": [
        "# Lab | Data Cleaning and Formatting"
      ]
    },
    {
      "cell_type": "markdown",
      "id": "d1973e9e-8be6-4039-b70e-d73ee0d94c99",
      "metadata": {
        "id": "d1973e9e-8be6-4039-b70e-d73ee0d94c99"
      },
      "source": [
        "In this lab, we will be working with the customer data from an insurance company, which can be found in the CSV file located at the following link: https://raw.githubusercontent.com/data-bootcamp-v4/data/main/file1.csv\n"
      ]
    },
    {
      "cell_type": "markdown",
      "id": "31b8a9e7-7db9-4604-991b-ef6771603e57",
      "metadata": {
        "id": "31b8a9e7-7db9-4604-991b-ef6771603e57"
      },
      "source": [
        "# Challenge 1: Data Cleaning and Formatting"
      ]
    },
    {
      "cell_type": "markdown",
      "id": "81553f19-9f2c-484b-8940-520aff884022",
      "metadata": {
        "id": "81553f19-9f2c-484b-8940-520aff884022"
      },
      "source": [
        "## Exercise 1: Cleaning Column Names"
      ]
    },
    {
      "cell_type": "markdown",
      "id": "34a929f4-1be4-4fa8-adda-42ffd920be90",
      "metadata": {
        "id": "34a929f4-1be4-4fa8-adda-42ffd920be90"
      },
      "source": [
        "To ensure consistency and ease of use, standardize the column names of the dataframe. Start by taking a first look at the dataframe and identifying any column names that need to be modified. Use appropriate naming conventions and make sure that column names are descriptive and informative.\n",
        "\n",
        "*Hint*:\n",
        "- *Column names should be in lower case*\n",
        "- *White spaces in column names should be replaced by `_`*\n",
        "- *`st` could be replaced for `state`*"
      ]
    },
    {
      "cell_type": "code",
      "execution_count": 8,
      "id": "5df09dd2",
      "metadata": {},
      "outputs": [],
      "source": [
        "import pandas as pd\n",
        "\n",
        "df = pd.read_csv('https://raw.githubusercontent.com/data-bootcamp-v4/data/main/file1.csv')"
      ]
    },
    {
      "cell_type": "code",
      "execution_count": 9,
      "id": "0baa0c1d",
      "metadata": {},
      "outputs": [],
      "source": [
        "df.columns = [col.lower().replace(' ','_') if col != 'ST' else 'state' for col in df.columns ]"
      ]
    },
    {
      "cell_type": "markdown",
      "id": "9cb501ec-36ff-4589-b872-6252bb150316",
      "metadata": {
        "id": "9cb501ec-36ff-4589-b872-6252bb150316"
      },
      "source": [
        "## Exercise 2: Cleaning invalid Values"
      ]
    },
    {
      "cell_type": "markdown",
      "id": "771fdcf3-8e20-4b06-9c24-3a93ba2b0909",
      "metadata": {
        "id": "771fdcf3-8e20-4b06-9c24-3a93ba2b0909"
      },
      "source": [
        "The dataset contains columns with inconsistent and incorrect values that could affect the accuracy of our analysis. Therefore, we need to clean these columns to ensure that they only contain valid data.\n",
        "\n",
        "Note that this exercise will focus only on cleaning inconsistent values and will not involve handling null values (NaN or None).\n",
        "\n",
        "*Hint*:\n",
        "- *Gender column contains various inconsistent values such as \"F\", \"M\", \"Femal\", \"Male\", \"female\", which need to be standardized, for example, to \"M\" and \"F\".*\n",
        "- *State abbreviations be can replaced with its full name, for example \"AZ\": \"Arizona\", \"Cali\": \"California\", \"WA\": \"Washington\"*\n",
        "- *In education, \"Bachelors\" could be replaced by \"Bachelor\"*\n",
        "- *In Customer Lifetime Value, delete the `%` character*\n",
        "- *In vehicle class, \"Sports Car\", \"Luxury SUV\" and \"Luxury Car\" could be replaced by \"Luxury\"*"
      ]
    },
    {
      "cell_type": "code",
      "execution_count": 10,
      "id": "25199219",
      "metadata": {},
      "outputs": [
        {
          "data": {
            "text/plain": [
              "array([nan, 'F', 'M', 'Femal', 'Male', 'female'], dtype=object)"
            ]
          },
          "execution_count": 10,
          "metadata": {},
          "output_type": "execute_result"
        }
      ],
      "source": [
        "df['gender'].unique()"
      ]
    },
    {
      "cell_type": "code",
      "execution_count": 11,
      "id": "8db29fe9",
      "metadata": {},
      "outputs": [
        {
          "data": {
            "text/plain": [
              "array(['Washington', 'Arizona', 'Nevada', 'California', 'Oregon', 'Cali',\n",
              "       'AZ', 'WA', nan], dtype=object)"
            ]
          },
          "execution_count": 11,
          "metadata": {},
          "output_type": "execute_result"
        }
      ],
      "source": [
        "df['state'].unique()"
      ]
    },
    {
      "cell_type": "code",
      "execution_count": null,
      "id": "3f8ee5cb-50ab-48af-8a9f-9a389804033c",
      "metadata": {
        "id": "3f8ee5cb-50ab-48af-8a9f-9a389804033c"
      },
      "outputs": [],
      "source": [
        "\n",
        "def clean_inconsistent_gender_values(value):\n",
        "    val = str(value)\n",
        "    if len(val) >= 1:\n",
        "        if val.startswith('f') or val.startswith('F'):\n",
        "            correct_value = \"F\"\n",
        "            return correct_value\n",
        "        elif val.startswith('m') or val.startswith('M'):\n",
        "            correct_value = \"M\"\n",
        "            return correct_value\n",
        "        else:\n",
        "            return 'NULL'\n",
        "\n",
        "        \n",
        "\n"
      ]
    },
    {
      "cell_type": "code",
      "execution_count": 12,
      "id": "fff9af66",
      "metadata": {},
      "outputs": [],
      "source": [
        "df['gender'] = df['gender'].apply(clean_inconsistent_gender_values)"
      ]
    },
    {
      "cell_type": "code",
      "execution_count": 13,
      "id": "9f3bb622",
      "metadata": {},
      "outputs": [],
      "source": [
        "def clean_inconsistent_state_values(value):\n",
        "    val = str(value)\n",
        "    if len(val) == 2:\n",
        "        if val == 'AZ':\n",
        "            correct_value = \"Arizona\"\n",
        "            return correct_value\n",
        "        elif val == 'WA':\n",
        "            correct_value = \"Washington\"\n",
        "            return correct_value\n",
        "        else:\n",
        "            return val\n",
        "    elif len(val) > 2 and len(val) < 5:\n",
        "        if val == 'Cali':\n",
        "            correct_value = 'California'\n",
        "        else:\n",
        "            return 'NULL'\n",
        "    else:\n",
        "        return val\n",
        "    \n",
        "df['state'] = df['state'].apply(clean_inconsistent_state_values)"
      ]
    },
    {
      "cell_type": "code",
      "execution_count": 14,
      "id": "75104f1c",
      "metadata": {},
      "outputs": [],
      "source": [
        "def clean_education(value):\n",
        "    val = str(value)\n",
        "    if val == 'Bachelors':\n",
        "        return 'Bachelor'\n",
        "    else:\n",
        "        return val\n",
        "    \n",
        "df['education'] = df['education'].apply(clean_education)"
      ]
    },
    {
      "cell_type": "code",
      "execution_count": 15,
      "id": "166a6b2a",
      "metadata": {},
      "outputs": [
        {
          "data": {
            "text/plain": [
              "array([nan, '697953.59%', '1288743.17%', ..., '2031499.76%', '323912.47%',\n",
              "       '899704.02%'], dtype=object)"
            ]
          },
          "execution_count": 15,
          "metadata": {},
          "output_type": "execute_result"
        }
      ],
      "source": [
        "df['customer_lifetime_value'].unique()"
      ]
    },
    {
      "cell_type": "code",
      "execution_count": 16,
      "id": "0e0aef65",
      "metadata": {},
      "outputs": [],
      "source": [
        "def clean_customer_lifetime_vale(value):\n",
        "    val = str(value)\n",
        "    if val[-1] == '%':\n",
        "        val = val.replace('%','')\n",
        "        return float(val)\n",
        "    else:\n",
        "        try:\n",
        "            return float(val)\n",
        "        except:\n",
        "            return 0\n",
        "    \n",
        "df['customer_lifetime_value'] = df['customer_lifetime_value'].apply(clean_customer_lifetime_vale)"
      ]
    },
    {
      "cell_type": "markdown",
      "id": "85ff78ce-0174-4890-9db3-8048b7d7d2d0",
      "metadata": {
        "id": "85ff78ce-0174-4890-9db3-8048b7d7d2d0"
      },
      "source": [
        "## Exercise 3: Formatting data types"
      ]
    },
    {
      "cell_type": "markdown",
      "id": "b91c2cf8-79a2-4baf-9f65-ff2fb22270bd",
      "metadata": {
        "id": "b91c2cf8-79a2-4baf-9f65-ff2fb22270bd"
      },
      "source": [
        "The data types of many columns in the dataset appear to be incorrect. This could impact the accuracy of our analysis. To ensure accurate analysis, we need to correct the data types of these columns. Please update the data types of the columns as appropriate."
      ]
    },
    {
      "cell_type": "markdown",
      "id": "43e5d853-ff9e-43b2-9d92-aef2f78764f3",
      "metadata": {
        "id": "43e5d853-ff9e-43b2-9d92-aef2f78764f3"
      },
      "source": [
        "It is important to note that this exercise does not involve handling null values (NaN or None)."
      ]
    },
    {
      "cell_type": "markdown",
      "id": "329ca691-9196-4419-8969-3596746237a1",
      "metadata": {
        "id": "329ca691-9196-4419-8969-3596746237a1"
      },
      "source": [
        "*Hint*:\n",
        "- *Customer lifetime value should be numeric*\n",
        "- *Number of open complaints has an incorrect format. Look at the different values it takes with `unique()` and take the middle value. As an example, 1/5/00 should be 5. Number of open complaints is a string - remember you can use `split()` to deal with it and take the number you need. Finally, since it should be numeric, cast the column to be in its proper type.*"
      ]
    },
    {
      "cell_type": "code",
      "execution_count": 17,
      "id": "eb8f5991-73e9-405f-bf1c-6b7c589379a9",
      "metadata": {
        "id": "eb8f5991-73e9-405f-bf1c-6b7c589379a9"
      },
      "outputs": [
        {
          "data": {
            "text/plain": [
              "array(['1/0/00', '1/2/00', '1/1/00', '1/3/00', '1/5/00', '1/4/00', nan],\n",
              "      dtype=object)"
            ]
          },
          "execution_count": 17,
          "metadata": {},
          "output_type": "execute_result"
        }
      ],
      "source": [
        "df.dtypes\n",
        "df['number_of_open_complaints'].unique()\n",
        "\n"
      ]
    },
    {
      "cell_type": "code",
      "execution_count": 22,
      "id": "32831938",
      "metadata": {},
      "outputs": [],
      "source": [
        "def clean_complaints(value):\n",
        "    val = str(value).split('/')\n",
        "    if len(val) > 1:\n",
        "        try: \n",
        "            res = int(val[1])\n",
        "            return res\n",
        "        except:\n",
        "            print(f'{val} not valid int')\n",
        "    else:\n",
        "        try:\n",
        "            res = int(val[0])\n",
        "            return res\n",
        "        except:\n",
        "            return None\n",
        "    "
      ]
    },
    {
      "cell_type": "code",
      "execution_count": 23,
      "id": "3f2efcdc",
      "metadata": {},
      "outputs": [],
      "source": [
        "df['number_of_open_complaints'] = df['number_of_open_complaints'].apply(clean_complaints).astype('Int64')"
      ]
    },
    {
      "cell_type": "code",
      "execution_count": 24,
      "id": "01de6f67",
      "metadata": {},
      "outputs": [
        {
          "data": {
            "text/plain": [
              "customer                      object\n",
              "state                         object\n",
              "gender                        object\n",
              "education                     object\n",
              "customer_lifetime_value      float64\n",
              "income                       float64\n",
              "monthly_premium_auto         float64\n",
              "number_of_open_complaints      Int64\n",
              "policy_type                   object\n",
              "vehicle_class                 object\n",
              "total_claim_amount           float64\n",
              "dtype: object"
            ]
          },
          "execution_count": 24,
          "metadata": {},
          "output_type": "execute_result"
        }
      ],
      "source": [
        "df.dtypes"
      ]
    },
    {
      "cell_type": "code",
      "execution_count": 29,
      "id": "d03ab820",
      "metadata": {},
      "outputs": [
        {
          "data": {
            "text/plain": [
              "2936"
            ]
          },
          "execution_count": 29,
          "metadata": {},
          "output_type": "execute_result"
        }
      ],
      "source": [
        "df.duplicated().sum()"
      ]
    },
    {
      "cell_type": "markdown",
      "id": "14c52e28-2d0c-4dd2-8bd5-3476e34fadc1",
      "metadata": {
        "id": "14c52e28-2d0c-4dd2-8bd5-3476e34fadc1"
      },
      "source": [
        "## Exercise 4: Dealing with Null values"
      ]
    },
    {
      "cell_type": "markdown",
      "id": "34b9a20f-7d32-4417-975e-1b4dfb0e16cd",
      "metadata": {
        "id": "34b9a20f-7d32-4417-975e-1b4dfb0e16cd"
      },
      "source": [
        "Identify any columns with null or missing values. Identify how many null values each column has. You can use the `isnull()` function in pandas to find columns with null values.\n",
        "\n",
        "Decide on a strategy for handling the null values. There are several options, including:\n",
        "\n",
        "- Drop the rows or columns with null values\n",
        "- Fill the null values with a specific value (such as the column mean or median for numerical variables, and mode for categorical variables)\n",
        "- Fill the null values with the previous or next value in the column\n",
        "- Fill the null values based on a more complex algorithm or model (note: we haven't covered this yet)\n",
        "\n",
        "Implement your chosen strategy to handle the null values. You can use the `fillna()` function in pandas to fill null values or `dropna()` function to drop null values.\n",
        "\n",
        "Verify that your strategy has successfully handled the null values. You can use the `isnull()` function again to check if there are still null values in the dataset.\n",
        "\n",
        "Remember to document your process and explain your reasoning for choosing a particular strategy for handling null values.\n",
        "\n",
        "After formatting data types, as a last step, convert all the numeric variables to integers."
      ]
    },
    {
      "cell_type": "code",
      "execution_count": 30,
      "id": "451423fa",
      "metadata": {},
      "outputs": [
        {
          "data": {
            "text/plain": [
              "customer                     2937\n",
              "state                         120\n",
              "gender                          0\n",
              "education                       0\n",
              "customer_lifetime_value      2940\n",
              "income                       2937\n",
              "monthly_premium_auto         2937\n",
              "number_of_open_complaints    2937\n",
              "policy_type                  2937\n",
              "vehicle_class                2937\n",
              "total_claim_amount           2937\n",
              "dtype: int64"
            ]
          },
          "execution_count": 30,
          "metadata": {},
          "output_type": "execute_result"
        }
      ],
      "source": [
        "df.isnull().sum()"
      ]
    },
    {
      "cell_type": "code",
      "execution_count": 31,
      "id": "f184fc35-7831-4836-a0a5-e7f99e01b40e",
      "metadata": {
        "id": "f184fc35-7831-4836-a0a5-e7f99e01b40e"
      },
      "outputs": [],
      "source": [
        "df.dropna(subset=['customer', 'customer_lifetime_value', 'income', 'monthly_premium_auto', 'policy_type', 'vehicle_class', 'total_claim_amount'], thresh=3, inplace=True)"
      ]
    },
    {
      "cell_type": "code",
      "execution_count": 32,
      "id": "ec6f2665",
      "metadata": {},
      "outputs": [
        {
          "data": {
            "text/plain": [
              "customer                       0\n",
              "state                        120\n",
              "gender                         0\n",
              "education                      0\n",
              "customer_lifetime_value        3\n",
              "income                         0\n",
              "monthly_premium_auto           0\n",
              "number_of_open_complaints      0\n",
              "policy_type                    0\n",
              "vehicle_class                  0\n",
              "total_claim_amount             0\n",
              "dtype: int64"
            ]
          },
          "execution_count": 32,
          "metadata": {},
          "output_type": "execute_result"
        }
      ],
      "source": [
        "df.isnull().sum()"
      ]
    },
    {
      "cell_type": "code",
      "execution_count": 33,
      "id": "258ca134",
      "metadata": {},
      "outputs": [
        {
          "data": {
            "text/plain": [
              "0       7.936903e+05\n",
              "1       6.979536e+05\n",
              "2       1.288743e+06\n",
              "3       7.645862e+05\n",
              "4       5.363077e+05\n",
              "            ...     \n",
              "1066    3.059550e+05\n",
              "1067    2.031500e+06\n",
              "1068    3.239125e+05\n",
              "1069    4.626801e+05\n",
              "1070    8.997040e+05\n",
              "Name: customer_lifetime_value, Length: 1071, dtype: float64"
            ]
          },
          "execution_count": 33,
          "metadata": {},
          "output_type": "execute_result"
        }
      ],
      "source": [
        "df['customer_lifetime_value'].fillna(df['customer_lifetime_value'].mean())"
      ]
    },
    {
      "cell_type": "code",
      "execution_count": 34,
      "id": "b0155930",
      "metadata": {},
      "outputs": [
        {
          "data": {
            "text/plain": [
              "0       Washington\n",
              "1          Arizona\n",
              "2           Nevada\n",
              "3       California\n",
              "4       Washington\n",
              "           ...    \n",
              "1066        Oregon\n",
              "1067          NULL\n",
              "1068       Arizona\n",
              "1069    California\n",
              "1070    California\n",
              "Name: state, Length: 1071, dtype: object"
            ]
          },
          "execution_count": 34,
          "metadata": {},
          "output_type": "execute_result"
        }
      ],
      "source": [
        "df['state'].fillna('NULL')"
      ]
    },
    {
      "cell_type": "markdown",
      "id": "98416351-e999-4156-9834-9b00a311adfa",
      "metadata": {
        "id": "98416351-e999-4156-9834-9b00a311adfa"
      },
      "source": [
        "## Exercise 5: Dealing with duplicates"
      ]
    },
    {
      "cell_type": "markdown",
      "id": "ea0816a7-a18e-4d4c-b667-a8452a800bd1",
      "metadata": {
        "id": "ea0816a7-a18e-4d4c-b667-a8452a800bd1"
      },
      "source": [
        "Use the `.duplicated()` method to identify any duplicate rows in the dataframe.\n",
        "\n",
        "Decide on a strategy for handling the duplicates. Options include:\n",
        "- Dropping all duplicate rows\n",
        "- Keeping only the first occurrence of each duplicated row\n",
        "- Keeping only the last occurrence of each duplicated row\n",
        "- Dropping duplicates based on a subset of columns\n",
        "- Dropping duplicates based on a specific column\n",
        "\n",
        "Implement your chosen strategy using the `drop_duplicates()` function.\n",
        "\n",
        "Verify that your strategy has successfully handled the duplicates by checking for duplicates again using `.duplicated()`.\n",
        "\n",
        "Remember to document your process and explain your reasoning for choosing a particular strategy for handling duplicates.\n",
        "\n",
        "Save the cleaned dataset to a new CSV file.\n",
        "\n",
        "*Hint*: *after dropping duplicates, reset the index to ensure consistency*."
      ]
    },
    {
      "cell_type": "code",
      "execution_count": 35,
      "id": "1929362c-47ed-47cb-baca-358b78d401a0",
      "metadata": {
        "id": "1929362c-47ed-47cb-baca-358b78d401a0"
      },
      "outputs": [
        {
          "data": {
            "text/plain": [
              "0"
            ]
          },
          "execution_count": 35,
          "metadata": {},
          "output_type": "execute_result"
        }
      ],
      "source": [
        "df.duplicated().sum()"
      ]
    },
    {
      "cell_type": "markdown",
      "id": "60840701-4783-40e2-b4d8-55303f9100c9",
      "metadata": {
        "id": "60840701-4783-40e2-b4d8-55303f9100c9"
      },
      "source": [
        "# Bonus: Challenge 2: creating functions on a separate `py` file"
      ]
    },
    {
      "cell_type": "markdown",
      "id": "9d1adb3a-17cf-4899-8041-da21a4337fb4",
      "metadata": {
        "id": "9d1adb3a-17cf-4899-8041-da21a4337fb4"
      },
      "source": [
        "Put all the data cleaning and formatting steps into functions, and create a main function that performs all the cleaning and formatting.\n",
        "\n",
        "Write these functions in separate .py file(s). By putting these steps into functions, we can make the code more modular and easier to maintain."
      ]
    },
    {
      "cell_type": "markdown",
      "id": "0e170dc2-b62c-417a-8248-e63ed18a70c4",
      "metadata": {
        "id": "0e170dc2-b62c-417a-8248-e63ed18a70c4"
      },
      "source": [
        "*Hint: autoreload module is a utility module in Python that allows you to automatically reload modules in the current session when changes are made to the source code. This can be useful in situations where you are actively developing code and want to see the effects of changes you make without having to constantly restart the Python interpreter or Jupyter Notebook kernel.*"
      ]
    },
    {
      "cell_type": "code",
      "execution_count": null,
      "id": "a52c6dfc-cd11-4d01-bda4-f719fa33e9a4",
      "metadata": {
        "id": "a52c6dfc-cd11-4d01-bda4-f719fa33e9a4"
      },
      "outputs": [],
      "source": [
        "# Your code here"
      ]
    },
    {
      "cell_type": "markdown",
      "id": "80f846bb-3f5e-4ca2-96c0-900728daca5a",
      "metadata": {
        "id": "80f846bb-3f5e-4ca2-96c0-900728daca5a",
        "tags": []
      },
      "source": [
        "# Bonus: Challenge 3: Analyzing Clean and Formated Data"
      ]
    },
    {
      "cell_type": "markdown",
      "id": "9021630e-cc90-446c-b5bd-264d6c864207",
      "metadata": {
        "id": "9021630e-cc90-446c-b5bd-264d6c864207"
      },
      "source": [
        "You have been tasked with analyzing the data to identify potential areas for improving customer retention and profitability. Your goal is to identify customers with a high policy claim amount and a low customer lifetime value.\n",
        "\n",
        "In the Pandas Lab, we only looked at high policy claim amounts because we couldn't look into low customer lifetime values. If we had tried to work with that column, we wouldn't have been able to because customer lifetime value wasn't clean and in its proper format. So after cleaning and formatting the data, let's get some more interesting insights!\n",
        "\n",
        "Instructions:\n",
        "\n",
        "- Review the statistics again for total claim amount and customer lifetime value to gain an understanding of the data.\n",
        "- To identify potential areas for improving customer retention and profitability, we want to focus on customers with a high policy claim amount and a low customer lifetime value. Consider customers with a high policy claim amount to be those in the top 25% of the total claim amount, and clients with a low customer lifetime value to be those in the bottom 25% of the customer lifetime value. Create a pandas DataFrame object that contains information about customers with a policy claim amount greater than the 75th percentile and a customer lifetime value in the bottom 25th percentile.\n",
        "- Use DataFrame methods to calculate summary statistics about the high policy claim amount and low customer lifetime value data. To do so, select both columns of the dataframe simultaneously and pass it to the `.describe()` method. This will give you descriptive statistics, such as mean, median, standard deviation, minimum and maximum values for both columns at the same time, allowing you to compare and analyze their characteristics."
      ]
    },
    {
      "cell_type": "code",
      "execution_count": null,
      "id": "211e82b5-461a-4d6f-8a23-4deccb84173c",
      "metadata": {
        "id": "211e82b5-461a-4d6f-8a23-4deccb84173c"
      },
      "outputs": [],
      "source": [
        "# Your code here"
      ]
    }
  ],
  "metadata": {
    "colab": {
      "provenance": []
    },
    "kernelspec": {
      "display_name": "base",
      "language": "python",
      "name": "python3"
    },
    "language_info": {
      "codemirror_mode": {
        "name": "ipython",
        "version": 3
      },
      "file_extension": ".py",
      "mimetype": "text/x-python",
      "name": "python",
      "nbconvert_exporter": "python",
      "pygments_lexer": "ipython3",
      "version": "3.12.7"
    }
  },
  "nbformat": 4,
  "nbformat_minor": 5
}
